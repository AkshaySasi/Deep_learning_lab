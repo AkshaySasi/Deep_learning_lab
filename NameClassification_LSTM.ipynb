{
 "cells": [
  {
   "cell_type": "code",
   "execution_count": 1,
   "metadata": {
    "id": "LIh3Mo7uxnsR"
   },
   "outputs": [],
   "source": [
    "# dataset: https://download.pytorch.org/tutorial/data.zip"
   ]
  },
  {
   "cell_type": "code",
   "execution_count": 2,
   "metadata": {
    "colab": {
     "base_uri": "https://localhost:8080/"
    },
    "id": "eba96301-f18c-4bff-bed4-488a028cc1c1",
    "outputId": "3730d13b-980d-490f-bdc1-c3c8b8dd8c8a"
   },
   "outputs": [
    {
     "name": "stderr",
     "output_type": "stream",
     "text": [
      "c:\\python36\\lib\\site-packages\\tqdm\\auto.py:22: TqdmWarning: IProgress not found. Please update jupyter and ipywidgets. See https://ipywidgets.readthedocs.io/en/stable/user_install.html\n",
      "  from .autonotebook import tqdm as notebook_tqdm\n"
     ]
    }
   ],
   "source": [
    "import io\n",
    "import os\n",
    "import unicodedata\n",
    "import string\n",
    "import glob\n",
    "import torch\n",
    "import random\n",
    "import torch.nn as nn\n",
    "import matplotlib.pyplot as plt\n",
    "import torch.nn.functional as F"
   ]
  },
  {
   "cell_type": "code",
   "execution_count": 3,
   "metadata": {},
   "outputs": [],
   "source": [
    "# alphabet small + capital letters + \" .,;'\"\n",
    "ALL_LETTERS = string.ascii_letters + \" .,;'\"\n",
    "N_LETTERS = len(ALL_LETTERS)\n",
    "\n",
    "# Turn a Unicode string to plain ASCII, thanks to https://stackoverflow.com/a/518232/2809427\n",
    "def unicode_to_ascii(s):\n",
    "    return ''.join(\n",
    "        c for c in unicodedata.normalize('NFD', s)\n",
    "        if unicodedata.category(c) != 'Mn'\n",
    "        and c in ALL_LETTERS\n",
    "    )"
   ]
  },
  {
   "cell_type": "code",
   "execution_count": 4,
   "metadata": {},
   "outputs": [],
   "source": [
    "def load_data():\n",
    "    # Build the category_lines dictionary, a list of names per language\n",
    "    category_lines = {}\n",
    "    all_categories = []\n",
    "\n",
    "    def find_files(path):\n",
    "        return glob.glob(path)\n",
    "\n",
    "    # Read a file and split into lines\n",
    "    def read_lines(filename):\n",
    "        lines = io.open(filename, encoding='utf-8').read().strip().split('\\n')\n",
    "        return [unicode_to_ascii(line) for line in lines]\n",
    "\n",
    "    for filename in find_files(r\"C:\\Users\\91830\\Downloads\\data (1)\\data\\names\\*.txt\"):\n",
    "        category = os.path.splitext(os.path.basename(filename))[0]\n",
    "        all_categories.append(category)\n",
    "\n",
    "        lines = read_lines(filename)\n",
    "        category_lines[category] = lines\n",
    "\n",
    "    return category_lines, all_categories"
   ]
  },
  {
   "cell_type": "code",
   "execution_count": 5,
   "metadata": {},
   "outputs": [],
   "source": [
    "category_lines, all_categories = load_data()"
   ]
  },
  {
   "cell_type": "code",
   "execution_count": 6,
   "metadata": {},
   "outputs": [
    {
     "name": "stdout",
     "output_type": "stream",
     "text": [
      "Categories loaded: ['Arabic', 'Chinese', 'Czech', 'Dutch', 'English', 'French', 'German', 'Greek', 'Irish', 'Italian', 'Japanese', 'Korean', 'Polish', 'Portuguese', 'Russian', 'Scottish', 'Spanish', 'Vietnamese']\n",
      "Number of names in category 'Arabic': 2000\n",
      "Number of names in category 'Chinese': 268\n",
      "Number of names in category 'Czech': 519\n",
      "Number of names in category 'Dutch': 297\n",
      "Number of names in category 'English': 3668\n",
      "Number of names in category 'French': 277\n",
      "Number of names in category 'German': 724\n",
      "Number of names in category 'Greek': 203\n",
      "Number of names in category 'Irish': 232\n",
      "Number of names in category 'Italian': 709\n",
      "Number of names in category 'Japanese': 991\n",
      "Number of names in category 'Korean': 94\n",
      "Number of names in category 'Polish': 139\n",
      "Number of names in category 'Portuguese': 74\n",
      "Number of names in category 'Russian': 9408\n",
      "Number of names in category 'Scottish': 100\n",
      "Number of names in category 'Spanish': 298\n",
      "Number of names in category 'Vietnamese': 73\n"
     ]
    }
   ],
   "source": [
    "# Debugging print statements\n",
    "print(\"Categories loaded:\", all_categories)\n",
    "for category in all_categories:\n",
    "    print(f\"Number of names in category '{category}': {len(category_lines[category])}\")\n",
    "    \n",
    "# Find letter index from all_letters, e.g. \"a\" = 0\n",
    "def letter_to_index(letter):\n",
    "    return ALL_LETTERS.find(letter)\n",
    "\n",
    "# Turn a letter into a <1 x n_letters> Tensor\n",
    "def letter_to_tensor(letter):\n",
    "    tensor = torch.zeros(1, N_LETTERS)\n",
    "    tensor[0][letter_to_index(letter)] = 1\n",
    "    return tensor\n",
    "\n",
    "# Turn a line into a <line_length x 1 x n_letters>,\n",
    "# or an array of one-hot letter vectors\n",
    "def line_to_tensor(line):\n",
    "    tensor = torch.zeros(len(line), 1, N_LETTERS)\n",
    "    for i, letter in enumerate(line):\n",
    "        tensor[i][0][letter_to_index(letter)] = 1\n",
    "    return tensor\n"
   ]
  },
  {
   "cell_type": "code",
   "execution_count": 7,
   "metadata": {
    "colab": {
     "base_uri": "https://localhost:8080/"
    },
    "id": "t_RlfvkK257z",
    "outputId": "6ef19c99-82eb-4c08-faa3-a935fe845b59"
   },
   "outputs": [
    {
     "data": {
      "text/plain": [
       "tensor([[0., 0., 0., 0., 0., 0., 0., 0., 0., 0., 0., 0., 0., 0., 0., 0., 0., 0.,\n",
       "         0., 1., 0., 0., 0., 0., 0., 0., 0., 0., 0., 0., 0., 0., 0., 0., 0., 0.,\n",
       "         0., 0., 0., 0., 0., 0., 0., 0., 0., 0., 0., 0., 0., 0., 0., 0., 0., 0.,\n",
       "         0., 0., 0.]])"
      ]
     },
     "execution_count": 7,
     "metadata": {},
     "output_type": "execute_result"
    }
   ],
   "source": [
    "letter_to_tensor('t')"
   ]
  },
  {
   "cell_type": "code",
   "execution_count": 8,
   "metadata": {
    "id": "hynFVuK026XX"
   },
   "outputs": [],
   "source": [
    "class NameClassifier(nn.Module):\n",
    "    def __init__(self, input_size, hidden_size, output_size):\n",
    "        super(NameClassifier, self).__init__()\n",
    "        self.hidden_size = hidden_size\n",
    "        self.lstm = nn.LSTM(input_size, hidden_size)\n",
    "        self.fc = nn.Linear(hidden_size, output_size)\n",
    "        self.softmax = nn.LogSoftmax(dim=1)\n",
    "\n",
    "    def forward(self, input, hidden):\n",
    "        output, (hidden, cell_state) = self.lstm(input, hidden)\n",
    "        output = self.fc(hidden.squeeze(0))\n",
    "        output = self.softmax(output)\n",
    "        return output, (hidden, cell_state)\n",
    "\n",
    "    def init_hidden(self):\n",
    "        return (torch.zeros(1, 1, self.hidden_size), torch.zeros(1, 1, self.hidden_size))\n",
    "\n",
    "category_lines, all_categories = load_data()\n",
    "n_categories = len(all_categories)\n",
    "n_hidden = 256\n",
    "classifier = NameClassifier(N_LETTERS, n_hidden, n_categories)\n",
    "\n",
    "criterion = nn.NLLLoss()\n",
    "learning_rate = 0.005\n",
    "optimizer = torch.optim.SGD(classifier.parameters(), lr=learning_rate)"
   ]
  },
  {
   "cell_type": "code",
   "execution_count": 10,
   "metadata": {
    "colab": {
     "base_uri": "https://localhost:8080/"
    },
    "id": "PUq4uTlk6Mk0",
    "outputId": "bf7f303e-4422-4029-92e7-be1151e4c16e"
   },
   "outputs": [],
   "source": [
    "def category_from_output(output):\n",
    "    category_idx = torch.argmax(output).item()\n",
    "    return all_categories[category_idx]\n",
    "\n",
    "def train(line_tensor, category_tensor):\n",
    "    hidden = classifier.init_hidden()\n",
    "    classifier.zero_grad()\n",
    "    for i in range(line_tensor.size()[0]):\n",
    "        output, hidden = classifier(line_tensor[i].unsqueeze(0), hidden)\n",
    "    loss = criterion(output, category_tensor)\n",
    "    loss.backward()\n",
    "    optimizer.step()\n",
    "    return output, loss.item()"
   ]
  },
  {
   "cell_type": "code",
   "execution_count": 11,
   "metadata": {},
   "outputs": [],
   "source": [
    "def random_training_example(category_lines, all_categories):\n",
    "    def random_choice(a):\n",
    "        random_idx = random.randint(0, len(a) - 1)\n",
    "        return a[random_idx]\n",
    "\n",
    "    category = random_choice(all_categories)\n",
    "    line = random_choice(category_lines[category])\n",
    "    category_tensor = torch.tensor([all_categories.index(category)], dtype=torch.long)\n",
    "    line_tensor = line_to_tensor(line)\n",
    "    return category, line, category_tensor, line_tensor"
   ]
  },
  {
   "cell_type": "code",
   "execution_count": 12,
   "metadata": {},
   "outputs": [
    {
     "name": "stdout",
     "output_type": "stream",
     "text": [
      "5000 5.0% 1.2524 Kwang  / Korean CORRECT\n",
      "10000 10.0% 2.5311 Cober / French WRONG (Czech)\n",
      "15000 15.0% 2.6333 Bordelon / Scottish WRONG (French)\n",
      "20000 20.0% 1.0006 Connell / Irish CORRECT\n",
      "25000 25.0% 2.0028 Cameron / French WRONG (Scottish)\n",
      "30000 30.0% 1.3009 Chang / Vietnamese WRONG (Korean)\n",
      "35000 35.0% 2.7453 Ventura / Portuguese WRONG (Italian)\n",
      "40000 40.0% 0.0163 Haritopoulos / Greek CORRECT\n",
      "45000 45.0% 0.0554 Baldi / Italian CORRECT\n",
      "50000 50.0% 0.3180 Quang / Vietnamese CORRECT\n",
      "55000 55.0% 1.2792 Isbitt / German WRONG (English)\n",
      "60000 60.0% 0.9356 D'cruz / Spanish WRONG (Portuguese)\n",
      "65000 65.0% 3.9801 D'amore / French WRONG (Italian)\n",
      "70000 70.0% 0.4074 Cuocco / Italian CORRECT\n",
      "75000 75.0% 0.1936 Trang / Vietnamese CORRECT\n",
      "80000 80.0% 0.8517 Martin / French CORRECT\n",
      "85000 85.0% 1.1848 Tono / Vietnamese WRONG (Japanese)\n",
      "90000 90.0% 0.3520 Kattan / Arabic CORRECT\n",
      "95000 95.0% 1.1596 Uesugi / Italian WRONG (Japanese)\n",
      "100000 100.0% 0.3990 Pavlik / Czech CORRECT\n"
     ]
    }
   ],
   "source": [
    "current_loss = 0\n",
    "all_losses = []\n",
    "plot_steps, print_steps = 1000, 5000\n",
    "n_iters = 100000\n",
    "for i in range(n_iters):\n",
    "    category, line, category_tensor, line_tensor = random_training_example(category_lines, all_categories)\n",
    "    \n",
    "    output, loss = train(line_tensor, category_tensor)\n",
    "    current_loss += loss\n",
    "\n",
    "    if (i+1) % plot_steps == 0:\n",
    "        all_losses.append(current_loss / plot_steps)\n",
    "        current_loss = 0\n",
    "\n",
    "    if (i+1) % print_steps == 0:\n",
    "        guess = category_from_output(output)\n",
    "        correct = \"CORRECT\" if guess == category else f\"WRONG ({category})\"\n",
    "        print(f\"{i+1} {(i+1)/n_iters*100:.1f}% {loss:.4f} {line} / {guess} {correct}\")"
   ]
  },
  {
   "cell_type": "code",
   "execution_count": null,
   "metadata": {},
   "outputs": [],
   "source": [
    "def predict(input_line):\n",
    "    print(f\"\\n> {input_line}\")\n",
    "    with torch.no_grad():\n",
    "        line_tensor = line_to_tensor(input_line)\n",
    "        hidden = lstm.init_hidden()\n",
    "        cell_state = lstm.init_cell_state()\n",
    "\n",
    "        for i in range(line_tensor.size()[0]):\n",
    "            output, hidden, cell_state = lstm(line_tensor[i], hidden, cell_state)\n",
    "\n",
    "        guess = category_from_output(output)\n",
    "        print(guess)\n",
    "\n",
    "while True:\n",
    "    sentence = input(\"Input:\")\n",
    "    if sentence == \"quit\":\n",
    "        break\n",
    "\n",
    "    predict(sentence)\n"
   ]
  },
  {
   "cell_type": "code",
   "execution_count": 13,
   "metadata": {
    "colab": {
     "base_uri": "https://localhost:8080/",
     "height": 430
    },
    "id": "l88vt0hmdj10",
    "outputId": "052c6043-f64b-4582-d06c-98a9bc9a9354"
   },
   "outputs": [
    {
     "data": {
      "image/png": "[encoded data removed]",
      "text/plain": [
       "<Figure size 432x288 with 1 Axes>"
      ]
     },
     "metadata": {
      "needs_background": "light"
     },
     "output_type": "display_data"
    }
   ],
   "source": [
    "plt.figure()\n",
    "plt.plot(all_losses)\n",
    "plt.show()"
   ]
  }
 ],
 "metadata": {
  "colab": {
   "provenance": []
  },
  "kernelspec": {
   "display_name": "Python 3",
   "language": "python",
   "name": "python3"
  },
  "language_info": {
   "codemirror_mode": {
    "name": "ipython",
    "version": 3
   },
   "file_extension": ".py",
   "mimetype": "text/x-python",
   "name": "python",
   "nbconvert_exporter": "python",
   "pygments_lexer": "ipython3",
   "version": "3.6.8"
  }
 },
 "nbformat": 4,
 "nbformat_minor": 1
}
