{
  "nbformat": 4,
  "nbformat_minor": 0,
  "metadata": {
    "colab": {
      "provenance": []
    },
    "kernelspec": {
      "name": "python3",
      "display_name": "Python 3"
    },
    "language_info": {
      "name": "python"
    }
  },
  "cells": [
    {
      "cell_type": "code",
      "execution_count": null,
      "metadata": {
        "id": "ImJ9ncSBgSKf"
      },
      "outputs": [],
      "source": [
        "import torch\n",
        "import torch.nn as nn\n",
        "import torch.optim as optim\n",
        "import torchvision\n",
        "import torchvision.transforms as transforms\n",
        "import matplotlib.pyplot as plt"
      ]
    },
    {
      "cell_type": "code",
      "source": [
        "torch.manual_seed(42)\n",
        "\n",
        "class NeuralNet(nn.Module):\n",
        "    def _init_(self, input_size=784, hidden_size=128, num_classes=10):\n",
        "        super(NeuralNet, self)._init_()\n",
        "        self.fc1 = nn.Linear(input_size, hidden_size)\n",
        "        self.relu = nn.ReLU()\n",
        "        self.fc2 = nn.Linear(hidden_size, num_classes)\n",
        "\n",
        "    def forward(self, x):\n",
        "        x = self.fc1(x)\n",
        "        x = self.relu(x)\n",
        "        x = self.fc2(x)\n",
        "        return x"
      ],
      "metadata": {
        "id": "OliD3hnUfFjI"
      },
      "execution_count": null,
      "outputs": []
    },
    {
      "cell_type": "code",
      "source": [
        "# Load MNIST dataset\n",
        "transform = transforms.Compose([transforms.ToTensor(), transforms.Normalize((0.5,), (0.5,))])\n",
        "train_dataset = torchvision.datasets.FashionMNIST(root='./data', train=True, transform=transform, download=True)\n",
        "test_dataset = torchvision.datasets.FashionMNIST(root='./data', train=False, transform=transform)"
      ],
      "metadata": {
        "id": "V_zz9r-ocHuh"
      },
      "execution_count": null,
      "outputs": []
    },
    {
      "cell_type": "code",
      "source": [
        "print(train_dataset.data.size())\n",
        "print(test_dataset.data.size())"
      ],
      "metadata": {
        "colab": {
          "base_uri": "https://localhost:8080/"
        },
        "id": "85smVa7gcufI",
        "outputId": "7a079315-c163-4b43-d1f7-55e7d78bfc97"
      },
      "execution_count": null,
      "outputs": [
        {
          "output_type": "stream",
          "name": "stdout",
          "text": [
            "torch.Size([60000, 28, 28])\n",
            "torch.Size([10000, 28, 28])\n"
          ]
        }
      ]
    },
    {
      "cell_type": "code",
      "source": [
        "import matplotlib.pyplot as plt\n",
        "plt.imshow(train_dataset.data[10], cmap=\"gray\")\n",
        "plt.title('%i' % train_dataset.targets[10])\n",
        "plt.show()"
      ],
      "metadata": {
        "colab": {
          "base_uri": "https://localhost:8080/",
          "height": 452
        },
        "id": "J8uurLtydAeT",
        "outputId": "29d420db-e3c3-41a6-9ba2-e13c3259d559"
      },
      "execution_count": null,
      "outputs": [
        {
          "output_type": "display_data",
          "data": {
            "text/plain": [
              "<Figure size 640x480 with 1 Axes>"
            ],
            "image/png": "[encoded data removed]"
          },
          "metadata": {}
        }
      ]
    },
    {
      "cell_type": "code",
      "source": [
        "from torch.utils.data import DataLoader\n",
        "loaders = {\n",
        "    'train': torch.utils.data.DataLoader(train_dataset,\n",
        "                                          batch_size = 100,\n",
        "                                          shuffle = 'True',\n",
        "                                          num_workers = 1),\n",
        "    'test': torch.utils.data.DataLoader(test_dataset,\n",
        "                                          batch_size = 100,\n",
        "                                          shuffle = 'True',\n",
        "                                          num_workers = 1),\n",
        "}\n",
        "loaders"
      ],
      "metadata": {
        "colab": {
          "base_uri": "https://localhost:8080/"
        },
        "id": "0uUh-jUndYcn",
        "outputId": "6b1862f1-ffa7-410c-d1dc-730e43dd680e"
      },
      "execution_count": null,
      "outputs": [
        {
          "output_type": "execute_result",
          "data": {
            "text/plain": [
              "{'train': <torch.utils.data.dataloader.DataLoader at 0x7a6a7b4c22f0>,\n",
              " 'test': <torch.utils.data.dataloader.DataLoader at 0x7a6a7b4c2110>}"
            ]
          },
          "metadata": {},
          "execution_count": 55
        }
      ]
    },
    {
      "cell_type": "code",
      "source": [
        "class CNN(nn.Module):\n",
        "    def __init__(self):\n",
        "        super(CNN, self).__init__()\n",
        "        self.conv1 = nn.Sequential(\n",
        "            nn.Conv2d(\n",
        "                in_channels=1,\n",
        "                out_channels=16,\n",
        "                kernel_size=5,\n",
        "                stride=1,\n",
        "                padding=2,\n",
        "            ),\n",
        "            nn.ReLU(),\n",
        "            nn.MaxPool2d(kernel_size=2),\n",
        "        )\n",
        "        self.conv2 = nn.Sequential(\n",
        "            nn.Conv2d(16, 32, 5, 1, 2),\n",
        "            nn.ReLU(),\n",
        "            nn.MaxPool2d(2),\n",
        "        )\n",
        "        # fully connected layer, output 10 classes\n",
        "        self.out = nn.Linear(32 * 7 * 7, 10)\n",
        "    def forward(self, x):\n",
        "        x = self.conv1(x)\n",
        "        x = self.conv2(x)\n",
        "        x = x.view(x.size(0), -1)\n",
        "        #print(x.shape) # getting shape of linear layer\n",
        "        output = self.out(x)\n",
        "        return output, x    # return x for visualization\n"
      ],
      "metadata": {
        "id": "4Y2_GhoJe3KG"
      },
      "execution_count": null,
      "outputs": []
    },
    {
      "cell_type": "code",
      "source": [
        "cnn = CNN()\n",
        "print(cnn)"
      ],
      "metadata": {
        "colab": {
          "base_uri": "https://localhost:8080/"
        },
        "id": "gFlFrOrUfTBi",
        "outputId": "8d5c9290-872a-4008-d37e-16494069b7c0"
      },
      "execution_count": null,
      "outputs": [
        {
          "output_type": "stream",
          "name": "stdout",
          "text": [
            "CNN(\n",
            "  (conv1): Sequential(\n",
            "    (0): Conv2d(1, 16, kernel_size=(5, 5), stride=(1, 1), padding=(2, 2))\n",
            "    (1): ReLU()\n",
            "    (2): MaxPool2d(kernel_size=2, stride=2, padding=0, dilation=1, ceil_mode=False)\n",
            "  )\n",
            "  (conv2): Sequential(\n",
            "    (0): Conv2d(16, 32, kernel_size=(5, 5), stride=(1, 1), padding=(2, 2))\n",
            "    (1): ReLU()\n",
            "    (2): MaxPool2d(kernel_size=2, stride=2, padding=0, dilation=1, ceil_mode=False)\n",
            "  )\n",
            "  (out): Linear(in_features=1568, out_features=10, bias=True)\n",
            ")\n"
          ]
        }
      ]
    },
    {
      "cell_type": "code",
      "source": [
        "loss_func = nn.CrossEntropyLoss()\n",
        "loss_func"
      ],
      "metadata": {
        "colab": {
          "base_uri": "https://localhost:8080/"
        },
        "id": "DrqKtdiVfTeM",
        "outputId": "ca3ea268-64d0-415f-aabe-6b37c828249e"
      },
      "execution_count": null,
      "outputs": [
        {
          "output_type": "execute_result",
          "data": {
            "text/plain": [
              "CrossEntropyLoss()"
            ]
          },
          "metadata": {},
          "execution_count": 62
        }
      ]
    },
    {
      "cell_type": "code",
      "source": [
        "lambda_value = 1e-6\n",
        "optimizer = optim.Adam(cnn.parameters(), lr = 1e-4)\n",
        "epochs = 5\n",
        "losses = []\n",
        "\n",
        "for epoch in range(epochs):\n",
        "    running_loss = 0.0\n",
        "    for i, (images, labels) in enumerate(loaders['train']):\n",
        "        optimizer.zero_grad()\n",
        "        outputs, _ = cnn(images)\n",
        "        loss = loss_func(outputs, labels)\n",
        "\n",
        "        # L1 penalty\n",
        "        l1_reg = 0.0\n",
        "        for param in cnn.parameters():\n",
        "            l1_reg += torch.norm(param, p=1)\n",
        "\n",
        "        loss += lambda_value * l1_reg\n",
        "\n",
        "        loss.backward()\n",
        "        optimizer.step()\n",
        "\n",
        "        running_loss += loss.item()\n",
        "        if i % 100 == 99:    # Print every 100 mini-batches\n",
        "            print('[%d, %5d] loss: %.3f' %\n",
        "                  (epoch + 1, i + 1, running_loss / 100))\n",
        "            running_loss = 0.0\n",
        "\n",
        "    losses.append(running_loss)\n",
        "\n",
        "print('Finished Training')\n"
      ],
      "metadata": {
        "colab": {
          "base_uri": "https://localhost:8080/"
        },
        "id": "3bwIdmFafdMg",
        "outputId": "879e93eb-f35f-4de9-bd09-c1b505b99fd0"
      },
      "execution_count": null,
      "outputs": [
        {
          "output_type": "stream",
          "name": "stdout",
          "text": [
            "[1,   100] loss: 1.777\n",
            "[1,   200] loss: 0.944\n",
            "[1,   300] loss: 0.748\n",
            "[1,   400] loss: 0.675\n",
            "[1,   500] loss: 0.617\n",
            "[1,   600] loss: 0.607\n",
            "[2,   100] loss: 0.573\n",
            "[2,   200] loss: 0.544\n",
            "[2,   300] loss: 0.538\n",
            "[2,   400] loss: 0.526\n",
            "[2,   500] loss: 0.512\n",
            "[2,   600] loss: 0.509\n",
            "[3,   100] loss: 0.479\n",
            "[3,   200] loss: 0.473\n",
            "[3,   300] loss: 0.464\n",
            "[3,   400] loss: 0.470\n",
            "[3,   500] loss: 0.465\n",
            "[3,   600] loss: 0.454\n",
            "[4,   100] loss: 0.445\n",
            "[4,   200] loss: 0.435\n",
            "[4,   300] loss: 0.425\n",
            "[4,   400] loss: 0.426\n",
            "[4,   500] loss: 0.431\n",
            "[4,   600] loss: 0.425\n",
            "[5,   100] loss: 0.420\n",
            "[5,   200] loss: 0.416\n",
            "[5,   300] loss: 0.410\n",
            "[5,   400] loss: 0.414\n",
            "[5,   500] loss: 0.407\n",
            "[5,   600] loss: 0.386\n",
            "Finished Training\n"
          ]
        }
      ]
    },
    {
      "cell_type": "code",
      "source": [
        "def test():\n",
        "    # Test the model\n",
        "    cnn.eval()\n",
        "    with torch.no_grad():\n",
        "        correct = 0\n",
        "        total = 0\n",
        "        for images, labels in loaders['test']:\n",
        "            test_output, last_layer = cnn(images)\n",
        "            pred_y = torch.max(test_output, 1)[1].data.squeeze()\n",
        "            accuracy = (pred_y == labels).sum().item() / float(labels.size(0))\n",
        "            pass\n",
        "    print('Test Accuracy of the model on the 10000 test images: %.2f'% accuracy)\n",
        "\n",
        "    pass\n",
        "test()"
      ],
      "metadata": {
        "colab": {
          "base_uri": "https://localhost:8080/"
        },
        "id": "gSSHg9yNm7im",
        "outputId": "d45104fd-f8a9-40bb-9527-02a8e098a499"
      },
      "execution_count": null,
      "outputs": [
        {
          "output_type": "stream",
          "name": "stdout",
          "text": [
            "Test Accuracy of the model on the 10000 test images: 0.84\n"
          ]
        }
      ]
    },
    {
      "cell_type": "code",
      "source": [
        "sample = next(iter(loaders['test']))\n",
        "imgs, lbls = sample"
      ],
      "metadata": {
        "id": "tTaZdpSPoqXD"
      },
      "execution_count": null,
      "outputs": []
    },
    {
      "cell_type": "code",
      "source": [
        "actual_number = lbls[:10].numpy()\n",
        "actual_number"
      ],
      "metadata": {
        "colab": {
          "base_uri": "https://localhost:8080/"
        },
        "id": "vtEnUNC5otWo",
        "outputId": "50e5cd0c-a7f7-434b-eac1-8ecd39fac554"
      },
      "execution_count": null,
      "outputs": [
        {
          "output_type": "execute_result",
          "data": {
            "text/plain": [
              "array([3, 8, 1, 0, 4, 8, 6, 4, 6, 0])"
            ]
          },
          "metadata": {},
          "execution_count": 66
        }
      ]
    },
    {
      "cell_type": "code",
      "source": [
        "test_output, last_layer = cnn(imgs[:10])\n",
        "pred_y = torch.max(test_output, 1)[1].data.numpy().squeeze()\n",
        "print(f'Prediction number: {pred_y}')\n",
        "print(f'Actual number: {actual_number}')"
      ],
      "metadata": {
        "colab": {
          "base_uri": "https://localhost:8080/"
        },
        "id": "RYsY-SxioxDy",
        "outputId": "d3cbf33f-07b2-4c8a-91f1-c0fda8cc00e0"
      },
      "execution_count": null,
      "outputs": [
        {
          "output_type": "stream",
          "name": "stdout",
          "text": [
            "Prediction number: [3 8 1 0 4 8 6 4 0 0]\n",
            "Actual number: [3 8 1 0 4 8 6 4 6 0]\n"
          ]
        }
      ]
    }
  ]
}