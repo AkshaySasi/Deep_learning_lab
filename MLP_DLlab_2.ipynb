{
 "cells": [
  {
   "cell_type": "code",
   "execution_count": 1,
   "id": "712672a8",
   "metadata": {},
   "outputs": [],
   "source": [
    "import numpy as np\n",
    "import matplotlib.pyplot as plt\n",
    "from sklearn.datasets import load_iris\n",
    "from sklearn.model_selection import train_test_split\n",
    "from sklearn.preprocessing import OneHotEncoder"
   ]
  },
  {
   "cell_type": "code",
   "execution_count": 2,
   "id": "e846dcce",
   "metadata": {},
   "outputs": [],
   "source": [
    "#ReLU activation function\n",
    "def relu(x):\n",
    "    return np.maximum(0, x)\n",
    "\n",
    "# derivative of ReLU activation function\n",
    "def relu_derivative(x):\n",
    "    return np.where(x <= 0, 0, 1)\n",
    "\n",
    "#Softmax activation function\n",
    "def softmax(x):\n",
    "    exp_values = np.exp(x - np.max(x, axis=1, keepdims=True))\n",
    "    return exp_values / np.sum(exp_values, axis=1, keepdims=True)\n",
    "\n",
    "# derivative of Softmax activation function\n",
    "def softmax_derivative(x):\n",
    "    return x * (1 - x)"
   ]
  },
  {
   "cell_type": "code",
   "execution_count": 3,
   "id": "28e2ae32",
   "metadata": {},
   "outputs": [],
   "source": [
    "class MLP:\n",
    "    def __init__(self, input_size, hidden_size, output_size, learning_rate=0.001):\n",
    "        self.input_size = input_size\n",
    "        self.hidden_size = hidden_size\n",
    "        self.output_size = output_size\n",
    "        self.learning_rate = learning_rate\n",
    "        \n",
    "        # Initialize weights and biases\n",
    "        self.weights_input_hidden = np.random.randn(input_size, hidden_size) * 0.01\n",
    "        self.biases_input_hidden = np.zeros((1, hidden_size))\n",
    "        self.weights_hidden_output = np.random.randn(hidden_size, output_size) * 0.01\n",
    "        self.biases_hidden_output = np.zeros((1, output_size))\n",
    "        \n",
    "        # Lists to store loss values\n",
    "        self.loss_history = []\n",
    "    \n",
    "    def forward(self, X):\n",
    "        self.hidden_output = relu(np.dot(X, self.weights_input_hidden) + self.biases_input_hidden)\n",
    "        self.output = softmax(np.dot(self.hidden_output, self.weights_hidden_output) + self.biases_hidden_output)\n",
    "        return self.output\n",
    "    \n",
    "    def backward(self, X, y):\n",
    "        output_error = self.output - y\n",
    "        delta_output = output_error * softmax_derivative(self.output)\n",
    "        \n",
    "        hidden_error = delta_output.dot(self.weights_hidden_output.T)\n",
    "        delta_hidden = hidden_error * relu_derivative(self.hidden_output)\n",
    "        \n",
    "        self.weights_hidden_output -= self.hidden_output.T.dot(delta_output) * self.learning_rate\n",
    "        self.biases_hidden_output -= np.sum(delta_output, axis=0, keepdims=True) * self.learning_rate\n",
    "        self.weights_input_hidden -= X.T.dot(delta_hidden) * self.learning_rate\n",
    "        self.biases_input_hidden -= np.sum(delta_hidden, axis=0, keepdims=True) * self.learning_rate\n",
    "    \n",
    "    def train(self, X, y, epochs):\n",
    "        for i in range(epochs):\n",
    "            output = self.forward(X)\n",
    "            loss = -np.sum(y * np.log(output + 1e-12)) / len(X) # Adding a small value to avoid log(0)\n",
    "            self.loss_history.append(loss)\n",
    "            self.backward(X, y)\n",
    "            if i % 100 == 0:\n",
    "                print(f\"Epoch {i+1}, Loss: {loss}\")\n",
    "    \n",
    "    def predict(self, X):\n",
    "        return np.argmax(self.forward(X), axis=1)"
   ]
  },
  {
   "cell_type": "code",
   "execution_count": 4,
   "id": "f3e401b7",
   "metadata": {},
   "outputs": [
    {
     "name": "stdout",
     "output_type": "stream",
     "text": [
      "Epoch 1, Loss: 1.0986626117689016\n",
      "Epoch 101, Loss: 0.9639121924100019\n",
      "Epoch 201, Loss: 0.5574573919852369\n",
      "Epoch 301, Loss: 0.3948483668062373\n",
      "Epoch 401, Loss: 0.2944229394177072\n",
      "Epoch 501, Loss: 0.23179055424911468\n",
      "Epoch 601, Loss: 0.1939302266312962\n",
      "Epoch 701, Loss: 0.1697161468897491\n",
      "Epoch 801, Loss: 0.15312524017700865\n",
      "Epoch 901, Loss: 0.14108170167821574\n"
     ]
    },
    {
     "data": {
      "image/png": "[encoded data removed]",
      "text/plain": [
       "<Figure size 432x288 with 1 Axes>"
      ]
     },
     "metadata": {
      "needs_background": "light"
     },
     "output_type": "display_data"
    }
   ],
   "source": [
    "# Load Iris dataset\n",
    "iris = load_iris()\n",
    "X = iris.data\n",
    "y = iris.target.reshape(-1, 1)\n",
    "\n",
    "# One-hot encode target labels\n",
    "encoder = OneHotEncoder()\n",
    "y = encoder.fit_transform(y).toarray()\n",
    "\n",
    "# Split dataset into training and testing sets\n",
    "X_train, X_test, y_train, y_test = train_test_split(X, y, test_size=0.2, random_state=42)\n",
    "\n",
    "# Initialize and train MLP\n",
    "input_size = X_train.shape[1]\n",
    "hidden_size = 64\n",
    "output_size = y_train.shape[1]\n",
    "mlp = MLP(input_size, hidden_size, output_size, learning_rate=0.001)\n",
    "mlp.train(X_train, y_train, epochs=1000)\n",
    "\n",
    "# Make predictions on test set\n",
    "predictions = mlp.predict(X_test)\n",
    "\n",
    "# Plot loss function over epochs\n",
    "plt.plot(range(len(mlp.loss_history)), mlp.loss_history)\n",
    "plt.xlabel('Epochs')\n",
    "plt.ylabel('Loss')\n",
    "plt.title('Loss Function Over Epochs')\n",
    "plt.show()"
   ]
  },
  {
   "cell_type": "code",
   "execution_count": null,
   "id": "6ac3a7ba",
   "metadata": {},
   "outputs": [],
   "source": []
  }
 ],
 "metadata": {
  "kernelspec": {
   "display_name": "Python 3",
   "language": "python",
   "name": "python3"
  },
  "language_info": {
   "codemirror_mode": {
    "name": "ipython",
    "version": 3
   },
   "file_extension": ".py",
   "mimetype": "text/x-python",
   "name": "python",
   "nbconvert_exporter": "python",
   "pygments_lexer": "ipython3",
   "version": "3.6.8"
  }
 },
 "nbformat": 4,
 "nbformat_minor": 5
}
