{
  "nbformat": 4,
  "nbformat_minor": 0,
  "metadata": {
    "colab": {
      "provenance": []
    },
    "kernelspec": {
      "name": "python3",
      "display_name": "Python 3"
    },
    "language_info": {
      "name": "python"
    }
  },
  "cells": [
    {
      "cell_type": "code",
      "execution_count": 3,
      "metadata": {
        "id": "CySsJz524Ayp"
      },
      "outputs": [],
      "source": [
        "import torch\n",
        "import torch.nn as nn\n",
        "import torch.optim as optim\n",
        "import torchvision\n",
        "import torchvision.transforms as transforms\n",
        "import matplotlib.pyplot as plt\n",
        "from torch.utils.data import DataLoader\n",
        "from torchvision import datasets, transforms"
      ]
    },
    {
      "cell_type": "code",
      "source": [
        "torch.manual_seed(42)\n",
        "\n",
        "# Define a simple feedforward neural network\n",
        "class NeuralNet(nn.Module):\n",
        "    def __init__(self, input_size=784, hidden_size=128, num_classes=10):\n",
        "        super(NeuralNet, self).__init__()\n",
        "        self.fc1 = nn.Linear(input_size, hidden_size)\n",
        "        self.relu = nn.ReLU()\n",
        "        self.fc2 = nn.Linear(hidden_size, num_classes)\n",
        "\n",
        "    def forward(self, x):\n",
        "      x = x.view(-1, 28 * 28)  # Flatten the input tensor\n",
        "      x = torch.relu(self.fc1(x))\n",
        "      x = torch.relu(self.fc2(x))\n",
        "      return x\n"
      ],
      "metadata": {
        "id": "reT2zI3s4MMM"
      },
      "execution_count": 23,
      "outputs": []
    },
    {
      "cell_type": "code",
      "source": [
        "# Load the MNIST dataset\n",
        "transform = transforms.Compose([transforms.ToTensor(), transforms.Normalize((0.5,), (0.5,))])\n",
        "train_dataset = torchvision.datasets.MNIST(root='./data', train=True, transform=transform, download=True)\n",
        "test_dataset = torchvision.datasets.MNIST(root='./data', train=False, transform=transform)\n",
        "train_loader = DataLoader(train_dataset, batch_size=64, shuffle=True)\n",
        "test_loader = DataLoader(test_dataset, batch_size=64, shuffle=False)\n"
      ],
      "metadata": {
        "id": "5rIRMw9W4MO6"
      },
      "execution_count": 24,
      "outputs": []
    },
    {
      "cell_type": "code",
      "source": [
        "print(train_dataset.data.size())"
      ],
      "metadata": {
        "colab": {
          "base_uri": "https://localhost:8080/"
        },
        "id": "QmqL_l2J4MSV",
        "outputId": "333c3011-ddff-48aa-facf-51968d32693a"
      },
      "execution_count": 18,
      "outputs": [
        {
          "output_type": "stream",
          "name": "stdout",
          "text": [
            "torch.Size([60000, 28, 28])\n"
          ]
        }
      ]
    },
    {
      "cell_type": "code",
      "source": [
        "import matplotlib.pyplot as plt\n",
        "plt.imshow(train_dataset.data[0], cmap='gray')\n",
        "plt.title('%i' % train_dataset.targets[0])\n",
        "plt.show()"
      ],
      "metadata": {
        "colab": {
          "base_uri": "https://localhost:8080/",
          "height": 452
        },
        "id": "o45eapGJ4VPV",
        "outputId": "3d152de6-e831-4e1d-ab59-072ee28a2bc4"
      },
      "execution_count": 25,
      "outputs": [
        {
          "output_type": "display_data",
          "data": {
            "text/plain": [
              "<Figure size 640x480 with 1 Axes>"
            ],
            "image/png": "[encoded data removed]"
          },
          "metadata": {}
        }
      ]
    },
    {
      "cell_type": "code",
      "source": [
        "optimizers = {\n",
        "    'SGD': optim.SGD,\n",
        "    'SGD_momentum': lambda params, lr: optim.SGD(params, lr=lr, momentum=0.9),\n",
        "    'Adam': optim.Adam,\n",
        "    'Adagrad': optim.Adagrad,\n",
        "    'RMSprop': optim.RMSprop\n",
        "}\n",
        "\n"
      ],
      "metadata": {
        "id": "ZkJ680HL4VSo"
      },
      "execution_count": 39,
      "outputs": []
    },
    {
      "cell_type": "code",
      "source": [
        "def train(model, optimizer_name, lr, epochs):\n",
        "   optimizer = optimizers[optimizer_name](model.parameters(), lr=lr)\n",
        "\n",
        "   criterion = nn.CrossEntropyLoss()\n",
        "\n",
        "\n",
        "   for epoch in range(epochs):\n",
        "        model.train()\n",
        "        for data, target in train_loader:\n",
        "            optimizer.zero_grad()\n",
        "            output = model(data)\n",
        "            loss = criterion(output, target)\n",
        "            loss.backward()\n",
        "            optimizer.step()\n",
        "\n",
        "        model.eval()\n",
        "        test_loss = 0\n",
        "        correct = 0\n",
        "        with torch.no_grad():\n",
        "            for data, target in test_loader:\n",
        "                output = model(data)\n",
        "                test_loss += criterion(output, target).item()\n",
        "                pred = output.argmax(dim=1, keepdim=True)\n",
        "                correct += pred.eq(target.view_as(pred)).sum().item()\n",
        "\n",
        "        test_loss /= len(test_loader.dataset)\n",
        "        accuracy = 100.0 * correct / len(test_loader.dataset)\n",
        "        print(f'Epoch: {epoch+1}, Test Loss: {test_loss:.4f}, Accuracy: {accuracy:.2f}%')\n"
      ],
      "metadata": {
        "id": "YPTpbjrI4VdF"
      },
      "execution_count": 40,
      "outputs": []
    },
    {
      "cell_type": "code",
      "source": [
        "model = NeuralNet()\n",
        "optimizer_name = 'SGD'\n",
        "lr = 0.01\n",
        "epochs = 10\n",
        "\n",
        "train(model, optimizer_name, lr, epochs)"
      ],
      "metadata": {
        "colab": {
          "base_uri": "https://localhost:8080/"
        },
        "id": "n_leWzuq7j-s",
        "outputId": "0bc8aef8-6855-4d96-9e66-d2db8dcc262e"
      },
      "execution_count": 28,
      "outputs": [
        {
          "output_type": "stream",
          "name": "stdout",
          "text": [
            "Epoch: 1, Test Loss: 0.0098, Accuracy: 81.04%\n",
            "Epoch: 2, Test Loss: 0.0086, Accuracy: 82.59%\n",
            "Epoch: 3, Test Loss: 0.0081, Accuracy: 83.29%\n",
            "Epoch: 4, Test Loss: 0.0077, Accuracy: 83.82%\n",
            "Epoch: 5, Test Loss: 0.0076, Accuracy: 83.93%\n",
            "Epoch: 6, Test Loss: 0.0073, Accuracy: 84.33%\n",
            "Epoch: 7, Test Loss: 0.0072, Accuracy: 84.53%\n",
            "Epoch: 8, Test Loss: 0.0042, Accuracy: 93.29%\n",
            "Epoch: 9, Test Loss: 0.0035, Accuracy: 93.68%\n",
            "Epoch: 10, Test Loss: 0.0035, Accuracy: 93.79%\n"
          ]
        }
      ]
    },
    {
      "cell_type": "code",
      "source": [
        "model = NeuralNet()\n",
        "optimizer_name = 'Adam'\n",
        "lr = 0.01\n",
        "epochs = 10\n",
        "\n",
        "train(model, optimizer_name, lr, epochs)"
      ],
      "metadata": {
        "colab": {
          "base_uri": "https://localhost:8080/"
        },
        "id": "9ukIr2gi-SwA",
        "outputId": "0d521d74-e183-487e-9c7f-95e910ff0e52"
      },
      "execution_count": 35,
      "outputs": [
        {
          "output_type": "stream",
          "name": "stdout",
          "text": [
            "Epoch: 1, Test Loss: 0.0268, Accuracy: 28.97%\n",
            "Epoch: 2, Test Loss: 0.0268, Accuracy: 29.32%\n",
            "Epoch: 3, Test Loss: 0.0266, Accuracy: 28.94%\n",
            "Epoch: 4, Test Loss: 0.0264, Accuracy: 29.19%\n",
            "Epoch: 5, Test Loss: 0.0266, Accuracy: 28.80%\n",
            "Epoch: 6, Test Loss: 0.0264, Accuracy: 29.03%\n",
            "Epoch: 7, Test Loss: 0.0240, Accuracy: 37.08%\n",
            "Epoch: 8, Test Loss: 0.0234, Accuracy: 37.76%\n",
            "Epoch: 9, Test Loss: 0.0234, Accuracy: 38.35%\n",
            "Epoch: 10, Test Loss: 0.0237, Accuracy: 37.78%\n"
          ]
        }
      ]
    },
    {
      "cell_type": "code",
      "source": [
        "model = NeuralNet()\n",
        "optimizer_name = 'Adagrad'\n",
        "lr = 0.01\n",
        "epochs = 10\n",
        "\n",
        "train(model, optimizer_name, lr, epochs)"
      ],
      "metadata": {
        "colab": {
          "base_uri": "https://localhost:8080/"
        },
        "id": "8oqxzAb0A_Es",
        "outputId": "e199b568-3e7e-402b-ea79-ad1780a066e9"
      },
      "execution_count": 36,
      "outputs": [
        {
          "output_type": "stream",
          "name": "stdout",
          "text": [
            "Epoch: 1, Test Loss: 0.0362, Accuracy: 9.80%\n",
            "Epoch: 2, Test Loss: 0.0362, Accuracy: 9.80%\n",
            "Epoch: 3, Test Loss: 0.0362, Accuracy: 9.80%\n",
            "Epoch: 4, Test Loss: 0.0362, Accuracy: 9.80%\n",
            "Epoch: 5, Test Loss: 0.0362, Accuracy: 9.80%\n",
            "Epoch: 6, Test Loss: 0.0362, Accuracy: 9.80%\n",
            "Epoch: 7, Test Loss: 0.0362, Accuracy: 9.80%\n",
            "Epoch: 8, Test Loss: 0.0362, Accuracy: 9.80%\n",
            "Epoch: 9, Test Loss: 0.0362, Accuracy: 9.80%\n",
            "Epoch: 10, Test Loss: 0.0362, Accuracy: 9.80%\n"
          ]
        }
      ]
    },
    {
      "cell_type": "code",
      "source": [
        "model = NeuralNet()\n",
        "optimizer_name = 'RMSprop'\n",
        "lr = 0.01\n",
        "epochs = 10\n",
        "\n",
        "train(model, optimizer_name, lr, epochs)"
      ],
      "metadata": {
        "colab": {
          "base_uri": "https://localhost:8080/"
        },
        "id": "HIFhd0tfOJP2",
        "outputId": "3e235a9f-58f5-47b4-d0a2-75a8793f4a23"
      },
      "execution_count": 37,
      "outputs": [
        {
          "output_type": "stream",
          "name": "stdout",
          "text": [
            "Epoch: 1, Test Loss: 0.0362, Accuracy: 9.80%\n",
            "Epoch: 2, Test Loss: 0.0362, Accuracy: 9.80%\n",
            "Epoch: 3, Test Loss: 0.0362, Accuracy: 9.80%\n",
            "Epoch: 4, Test Loss: 0.0362, Accuracy: 9.80%\n",
            "Epoch: 5, Test Loss: 0.0362, Accuracy: 9.80%\n",
            "Epoch: 6, Test Loss: 0.0362, Accuracy: 9.80%\n",
            "Epoch: 7, Test Loss: 0.0362, Accuracy: 9.80%\n",
            "Epoch: 8, Test Loss: 0.0362, Accuracy: 9.80%\n",
            "Epoch: 9, Test Loss: 0.0362, Accuracy: 9.80%\n",
            "Epoch: 10, Test Loss: 0.0362, Accuracy: 9.80%\n"
          ]
        }
      ]
    },
    {
      "cell_type": "code",
      "source": [
        "model = NeuralNet()\n",
        "optimizer_name = 'SGD_momentum'\n",
        "lr = 0.01\n",
        "epochs = 10\n",
        "\n",
        "train(model, optimizer_name, lr, epochs)"
      ],
      "metadata": {
        "colab": {
          "base_uri": "https://localhost:8080/"
        },
        "id": "eAF0suq1Pm_1",
        "outputId": "be02b2ba-1ec3-4f73-dc2c-c6104bfc8765"
      },
      "execution_count": 41,
      "outputs": [
        {
          "output_type": "stream",
          "name": "stdout",
          "text": [
            "Epoch: 1, Test Loss: 0.0033, Accuracy: 94.12%\n",
            "Epoch: 2, Test Loss: 0.0026, Accuracy: 95.09%\n",
            "Epoch: 3, Test Loss: 0.0019, Accuracy: 96.46%\n",
            "Epoch: 4, Test Loss: 0.0018, Accuracy: 96.19%\n",
            "Epoch: 5, Test Loss: 0.0015, Accuracy: 97.07%\n",
            "Epoch: 6, Test Loss: 0.0015, Accuracy: 96.99%\n",
            "Epoch: 7, Test Loss: 0.0013, Accuracy: 97.45%\n",
            "Epoch: 8, Test Loss: 0.0013, Accuracy: 97.37%\n",
            "Epoch: 9, Test Loss: 0.0013, Accuracy: 97.60%\n",
            "Epoch: 10, Test Loss: 0.0013, Accuracy: 97.63%\n"
          ]
        }
      ]
    }
  ]
}